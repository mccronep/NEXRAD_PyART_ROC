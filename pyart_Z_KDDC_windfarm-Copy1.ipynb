{
 "cells": [
  {
   "cell_type": "code",
   "execution_count": 55,
   "id": "680dd157",
   "metadata": {},
   "outputs": [
    {
     "name": "stderr",
     "output_type": "stream",
     "text": [
      "/home/pmccrone/anaconda3/lib/python3.8/site-packages/ipykernel/ipkernel.py:287: DeprecationWarning: `should_run_async` will not call `transform_cell` automatically in the future. Please pass the result to `transformed_cell` argument and any exception that happen during thetransform in `preprocessing_exc_tuple` in IPython 7.17 and above.\n",
      "  and should_run_async(code)\n"
     ]
    }
   ],
   "source": [
    "### Name of notebook: \n",
    "### pyart_Z_KDDC_windfarm\n",
    "### \n",
    "### Display Z Refl from Dodge City KDDC\n",
    "### Using PyART"
   ]
  },
  {
   "cell_type": "code",
   "execution_count": 56,
   "id": "39cb573f",
   "metadata": {},
   "outputs": [
    {
     "name": "stderr",
     "output_type": "stream",
     "text": [
      "/home/pmccrone/anaconda3/lib/python3.8/site-packages/ipykernel/ipkernel.py:287: DeprecationWarning: `should_run_async` will not call `transform_cell` automatically in the future. Please pass the result to `transformed_cell` argument and any exception that happen during thetransform in `preprocessing_exc_tuple` in IPython 7.17 and above.\n",
      "  and should_run_async(code)\n"
     ]
    }
   ],
   "source": [
    "try: \n",
    "    import numpy as np\n",
    "    import matplotlib.pyplot as plt\n",
    "    import pyart\n",
    "\n",
    "    import os\n",
    "    import cartopy.crs as ccrs\n",
    "    \n",
    "except:\n",
    "    print(\"Error loading Modules 1\")"
   ]
  },
  {
   "cell_type": "code",
   "execution_count": 57,
   "id": "ba909af0",
   "metadata": {},
   "outputs": [
    {
     "name": "stderr",
     "output_type": "stream",
     "text": [
      "/home/pmccrone/anaconda3/lib/python3.8/site-packages/ipykernel/ipkernel.py:287: DeprecationWarning: `should_run_async` will not call `transform_cell` automatically in the future. Please pass the result to `transformed_cell` argument and any exception that happen during thetransform in `preprocessing_exc_tuple` in IPython 7.17 and above.\n",
      "  and should_run_async(code)\n"
     ]
    }
   ],
   "source": [
    "try: \n",
    "    import metpy.calc as mpcalc\n",
    "    import metpy.constants as mpconst\n",
    "    from metpy.calc import reduce_point_density\n",
    "    from metpy.cbook import get_test_data\n",
    "    from metpy.io import metar, Level3File\n",
    "    from metpy.plots import add_metpy_logo, current_weather, sky_cover, StationPlot, add_timestamp, colortables\n",
    "\n",
    "    from siphon.catalog import TDSCatalog\n",
    "    from datetime import datetime\n",
    "    import xarray as xr\n",
    "    from metpy.units import units\n",
    "    from siphon.radarserver import RadarServer\n",
    "    from datetime import datetime,timedelta\n",
    "    \n",
    "    import cartopy\n",
    "    import cartopy.crs as ccrs\n",
    "    import matplotlib.pyplot as plt\n",
    "    import numpy as np\n",
    "    from siphon.cdmr import Dataset\n",
    "    \n",
    "    import cartopy.feature as cfeature\n",
    "    from metpy.plots import USCOUNTIES,ctables\n",
    "    \n",
    "    import pandas as PD\n",
    "    import os as OS\n",
    "except:\n",
    "    print(\"Error loading modules 2\")"
   ]
  },
  {
   "cell_type": "code",
   "execution_count": 58,
   "id": "bc570aaa",
   "metadata": {},
   "outputs": [
    {
     "name": "stdout",
     "output_type": "stream",
     "text": [
      "--------------------------------------------------------------------------\n"
     ]
    },
    {
     "name": "stderr",
     "output_type": "stream",
     "text": [
      "/home/pmccrone/anaconda3/lib/python3.8/site-packages/ipykernel/ipkernel.py:287: DeprecationWarning: `should_run_async` will not call `transform_cell` automatically in the future. Please pass the result to `transformed_cell` argument and any exception that happen during thetransform in `preprocessing_exc_tuple` in IPython 7.17 and above.\n",
      "  and should_run_async(code)\n"
     ]
    }
   ],
   "source": [
    "dadash='-------------------------------------'\n",
    "print(dadash+dadash)"
   ]
  },
  {
   "cell_type": "code",
   "execution_count": 59,
   "id": "8c25a551",
   "metadata": {},
   "outputs": [
    {
     "name": "stderr",
     "output_type": "stream",
     "text": [
      "/home/pmccrone/anaconda3/lib/python3.8/site-packages/ipykernel/ipkernel.py:287: DeprecationWarning: `should_run_async` will not call `transform_cell` automatically in the future. Please pass the result to `transformed_cell` argument and any exception that happen during thetransform in `preprocessing_exc_tuple` in IPython 7.17 and above.\n",
      "  and should_run_async(code)\n"
     ]
    }
   ],
   "source": [
    "list_of_lats = np.arange(0.0,90.0,1.0)\n",
    "#\n",
    "list_of_lons =np.arange(-179.0,181.0,1.0)"
   ]
  },
  {
   "cell_type": "code",
   "execution_count": 60,
   "id": "2369b550",
   "metadata": {},
   "outputs": [
    {
     "name": "stderr",
     "output_type": "stream",
     "text": [
      "/home/pmccrone/anaconda3/lib/python3.8/site-packages/ipykernel/ipkernel.py:287: DeprecationWarning: `should_run_async` will not call `transform_cell` automatically in the future. Please pass the result to `transformed_cell` argument and any exception that happen during thetransform in `preprocessing_exc_tuple` in IPython 7.17 and above.\n",
      "  and should_run_async(code)\n"
     ]
    }
   ],
   "source": [
    "    \n",
    "%matplotlib inline\n",
    "\n",
    "DADASHES='-----------------------------------------------------'\n",
    "dadash='-----------------------------------------------------'\n",
    "DAEQUALS='==--==--==--==--==--==--==--==--==--==--==--==--==--'\n",
    "\n",
    "\n",
    "now=datetime.utcnow()\n"
   ]
  },
  {
   "cell_type": "code",
   "execution_count": 61,
   "id": "c4146309",
   "metadata": {},
   "outputs": [
    {
     "name": "stdout",
     "output_type": "stream",
     "text": [
      "My_callsign=KDDC\n"
     ]
    },
    {
     "name": "stderr",
     "output_type": "stream",
     "text": [
      "/home/pmccrone/anaconda3/lib/python3.8/site-packages/ipykernel/ipkernel.py:287: DeprecationWarning: `should_run_async` will not call `transform_cell` automatically in the future. Please pass the result to `transformed_cell` argument and any exception that happen during thetransform in `preprocessing_exc_tuple` in IPython 7.17 and above.\n",
      "  and should_run_async(code)\n"
     ]
    }
   ],
   "source": [
    "#-----#-----#-----#-----#-----#-----#-----#-----#-----#-----#-----\n",
    "#######  Begin Function Access_Current_Time\n",
    "#-----#-----#-----#-----#-----#-----#-----#-----#-----#-----#-----\n",
    "#\n",
    "def Access_Current_Time(now):\n",
    "    #-----\n",
    "    ###import datetime\n",
    "    #-----\n",
    "    now = datetime.datetime.now()\n",
    "    #-----\n",
    "    print(\"\")\n",
    "    print( \"Current date and time using str method of datetime object:\")\n",
    "    print( str(now))\n",
    "    #-----\n",
    "    print( \" \\n\")\n",
    "    print( \"Current date and time using instance attributes:\")\n",
    "    print( \"Current year: %d\" % now.year)\n",
    "    print( \"Current month: %d\" % now.month)\n",
    "    print( \"Current day: %d\" % now.day)\n",
    "    print( \"Current hour: %d\" % now.hour)\n",
    "    print( \"Current minute: %d\" % now.minute)\n",
    "    print( \"Current second: %d\" % now.second)\n",
    "    print( \"Current microsecond: %d\" % now.microsecond)\n",
    "    #-----\n",
    "    print( \" \\n\")\n",
    "    print( \"Current date and time using strftime:\")\n",
    "    #print now.strftime(\"%Y-%m-%d %H:%M\")\n",
    "    print( now.strftime(\"%Y-%m-%d...%H:%M\"))\n",
    "    #-----\n",
    "    print( \" \\n\")\n",
    "    print( \"Current date and time using isoformat:\")\n",
    "    print (now.isoformat())\n",
    "    return( now.strftime(\"%Y-%m-%d.rapidscat.ncdf.%H-%M\"))\n",
    "    #return now\n",
    "    #\n",
    "    #-----#-----#-----#-----#-----#-----#-----#-----#-----#-----#-----\n",
    "    #### END OF Access_Current_Time FUNCTION\n",
    "    #-----#-----#-----#-----#-----#-----#-----#-----#-----#-----#-----\n",
    "###---\n",
    "#-----#-----#-----#-----#-----#-----#-----#-----#-----#-----#-----\n",
    "#######  Begin Function IS_This_Path_Valid()\n",
    "#-----#-----#-----#-----#-----#-----#-----#-----#-----#-----#-----\n",
    "#\n",
    "def IS_This_Path_Valid(thispath):\n",
    "    #-----\n",
    "    # If this path is Valid, then say so [print in the affirmative]\n",
    "    # return this_return_value=1\n",
    "    # Otherwise, state that the path is invalid, then return this_return_value=0\n",
    "    #.....................\n",
    "    #\n",
    "    this_return_value = 0\n",
    "    #\n",
    "    # Check thispath  \n",
    "    #\n",
    "    valid_thispath=OS.path.exists(thispath)\n",
    "\n",
    "    if valid_thispath:\n",
    "        print(dadash)\n",
    "        print(\"You are requesting the validity of this path: \"+thispath)\n",
    "        print(\"This path is VALID and EXISTS\")\n",
    "        this_return_value = 1\n",
    "        print(dadash)\n",
    "        #\n",
    "    else:\n",
    "        #\n",
    "        print(\"--CAUTION--\")\n",
    "        print(\"You are requesting the validity of this path: \"+thispath)\n",
    "        print(\"-------The indicated path is INVALID! NEED TO CHECK THIS!!!!!!!! -----------------\")\n",
    "        this_return_value = 0\n",
    "        #-----------------------------------------------------------\n",
    "        # End of if block\n",
    "        #-----------------------------------------------------------\n",
    "    #.....................\n",
    "    return( this_return_value)\n",
    "    #\n",
    "#xxxxxxxxxxxxxxxxxxxxxxxxxxxxxxxxxxxxxxxxxxxxxxxxxxxxxxxxxxxxxxxxxxxxxxxxxxxxxxxxxxxxxxxxxxx\n",
    "#\n",
    "#-----#-----#-----#-----#-----#-----#-----#-----#-----#-----#-----\n",
    "#######  Begin Function IS_This_File_Valid()\n",
    "#-----#-----#-----#-----#-----#-----#-----#-----#-----#-----#-----\n",
    "#\n",
    "def IS_This_File_Valid(thisfile):\n",
    "    #---------------------\n",
    "    # If this file is Valid, then say so [print in the affirmative]\n",
    "    # return this_return_value=1\n",
    "    # Otherwise, state that the file is invalid, then return this_return_value=0\n",
    "    #.....................\n",
    "    #\n",
    "    this_return_value = 0\n",
    "    #\n",
    "    # Check thisfile\n",
    "    #\n",
    "    valid_thisfile=OS.path.exists(thisfile)\n",
    "\n",
    "    if valid_thisfile:\n",
    "        print(dadash)\n",
    "        print(\"You are requesting the validity of this File: \"+thisfile)\n",
    "        print(\"This file is VALID and EXISTS\")\n",
    "        this_return_value = 1\n",
    "        print(dadash)\n",
    "        #\n",
    "    else:\n",
    "        #\n",
    "        print(\"--CAUTION--\")\n",
    "        print(\"You are requesting the validity of this file: \"+thisfile)\n",
    "        print(\"-------The indicated file is INVALID! NEED TO CHECK THIS!!!!!!!! -----------------\")\n",
    "        this_return_value = 0\n",
    "        #-----------------------------------------------------------\n",
    "        # End of if block\n",
    "        #-----------------------------------------------------------\n",
    "    #.....................\n",
    "    return( this_return_value)\n",
    "    #\n",
    "    #\n",
    "    #-----#-----#-----#-----#-----#-----#-----#-----#-----#-----#-----\n",
    "    #### END OF IS_This_File_Valid\n",
    "    #-----#-----#-----#-----#-----#-----#-----#-----#-----#-----#-----\n",
    "\n",
    "meta_dir='/home/pmccrone/python/src/Radar_NEXRAD_process-main'\n",
    "\n",
    "ALL_call_signs= \\\n",
    "[\"PGUA\",\"RKSG\",\"RKJK\",\"RODN\",\"KABR\",\"KENX\",\"KABX\",\"KFDR\",\"KAMA\",\"PAHG\", \\\n",
    "\"KEWX\",\"KBBX\",\"PABC\",\"KBLX\",\"KBGM\",\"KBMX\",\"KBIS\",\"KCBX\",\"KBOX\",\"KBRO\", \\\n",
    "\"KBUF\",\"KCXX\",\"KFDX\",\"KICX\",\"KCLX\",\"KRLX\",\"KCYS\",\"KLOT\",\"KILN\",\"KCLE\", \\\n",
    "\"KCAE\",\"KGWX\",\"KCRP\",\"KFWS\",\"KDVN\",\"KFTG\",\"KDMX\",\"KDTX\",\"KDDC\",\"KDOX\", \\\n",
    "\"KDLH\",\"KDYX\",\"KEYX\",\"KEVX\",\"KEPZ\",\"KLRX\",\"KBHX\",\"PAPD\",\"KFSX\",\"KHPX\", \\\n",
    "\"KGRK\",\"KPOE\",\"KEOX\",\"KSRX\",\"KIWX\",\"KAPX\",\"KGGW\",\"KGLD\",\"KMVX\",\"KGJX\", \\\n",
    "\"KGRR\",\"KTFX\",\"KGRB\",\"KGSP\",\"KRMX\",\"KUEX\",\"KHDX\",\"KCBW\",\"KHGX\",\"KHTX\", \\\n",
    "\"KIND\",\"KJKL\",\"KJAN\",\"KJAX\",\"PHKN\",\"KEAX\",\"KBYX\",\"PAKC\",\"KMRX\",\"KARX\", \\\n",
    "\"LPLA\",\"KLCH\",\"KESX\",\"KDFX\",\"KILX\",\"KLZK\",\"KVTX\",\"KLVX\",\"KLBB\",\"KMQT\", \\\n",
    "\"KMXX\",\"KMAX\",\"KMLB\",\"KNQA\",\"KAMX\",\"PAIH\",\"KMAF\",\"KMKX\",\"KMPX\",\"KMBX\", \\\n",
    "\"KMSX\",\"KMOB\",\"PHMO\",\"KVAX\",\"KMHX\",\"KOHX\",\"KLIX\",\"KOKX\",\"PAEC\",\"KAKQ\", \\\n",
    "\"KLNX\",\"KTLX\",\"KOAX\",\"KPAH\",\"KPDT\",\"KDIX\",\"KIWA\",\"KPBZ\",\"KSFX\",\"KGYX\", \\\n",
    "\"KRTX\",\"KPUX\",\"KRAX\",\"KUDX\",\"KRGX\",\"KRIW\",\"KFCX\",\"KJGX\",\"KDAX\",\"KLSX\", \\\n",
    "\"KMTX\",\"KSJT\",\"KNKX\",\"KMUX\",\"KHNX\",\"TJUA\",\"KSOX\",\"KATX\",\"KSHV\",\"KFSD\", \\\n",
    "\"PACG\",\"PHKI\",\"PHWA\",\"KOTX\",\"KSGF\",\"KCCX\",\"KLWX\",\"KTLH\",\"KTBW\",\"KTWX\", \\\n",
    "\"KEMX\",\"KINX\",\"KVNX\",\"KVBX\",\"KICT\",\"KLTX\",\"KFFC\",\"KYUX\",\"KLGX\",\"KCRI\", \"KOUN\"]\n",
    "#\n",
    "#\n",
    "#\n",
    "#[\"PGUA\",\"1\",\"2\",\"3\",\"4\",\"5\",\"6\",\"7\",\"8\",\"PAHG\", \\\n",
    "#\"KEWX\",\"11\",\"12\",\"13\",\"14\",\"15\",\"16\",\"17\",\"18\",\"KBRO\", \\\n",
    "#\"KBUF\",\"21\",\"22\",\"23\",\"24\",\"25\",\"26\",\"27\",\"28\",\"KCLE\", \\\n",
    "#\"KCAE\",\"31\",\"32\",\"33\",\"34\",\"35\",\"36\",\"37\",\"38\",\"KDOX\", \\\n",
    "#\"KDLH\",\"41\",\"42\",\"43\",\"44\",\"45\",\"46\",\"47\",\"48\",\"KHPX\", \\\n",
    "#\"KGRK\",\"51\",\"52\",\"53\",\"54\",\"55\",\"56\",\"57\",\"58\",\"KGJX\", \\\n",
    "#\"KGRR\",\"61\",\"62\",\"63\",\"64\",\"65\",\"66\",\"67\",\"68\",\"KHTX\", \\\n",
    "#\"KIND\",\"71\",\"72\",\"73\",\"74\",\"75\",\"76\",\"77\",\"78\",\"KARX\", \\\n",
    "#\"LPLA\",\"81\",\"82\",\"83\",\"84\",\"85\",\"86\",\"87\",\"88\",\"KMQT\", \\\n",
    "#\"KMXX\",\"91\",\"92\",\"93\",\"94\",\"95\",\"96\",\"97\",\"98\",\"KMBX\", \\\n",
    "#\"KMSX\",\"101\",\"102\",\"103\",\"104\",\"105\",\"106\",\"107\",\"108\",\"KAKQ\", \\\n",
    "#\"KLNX\",\"111\",\"112\",\"113\",\"114\",\"115\",\"116\",\"117\",\"118\",\"KGYX\", \\\n",
    "#\"KRTX\",\"121\",\"122\",\"123\",\"124\",\"125\",\"126\",\"127\",\"128\",\"129\", \\\n",
    "#\"KMTX\",\"131\",\"132\",\"133\",\"134\",\"135\",\"136\",\"137\",\"138\",\"KFSD\", \\\n",
    "#\"PACG\",\"141\",\"142\",\"143\",\"144\",\"145\",\"146\",\"147\",\"148\",\"KTWX\", \\\n",
    "#\"KEMX\",\"151\",\"152\",\"153\",\"154\",\"155\",\"156\",\"157\",\"158\",\"159\",\"KOUN\"]\n",
    "#\n",
    "# KBOX - 18\n",
    "# KTLX - 111\n",
    "# KOAX - 112\n",
    "# KMUX - 133\n",
    "# TJUA - 135\n",
    "\n",
    "My_callsign=ALL_call_signs[38] #KHPX - 49\n",
    "\n",
    "print(\"My_callsign=\"+My_callsign)\n",
    "\n",
    "CALL_SIGN=My_callsign\n",
    "#"
   ]
  },
  {
   "cell_type": "code",
   "execution_count": 62,
   "id": "a4b48612",
   "metadata": {},
   "outputs": [
    {
     "name": "stdout",
     "output_type": "stream",
     "text": [
      "My_radarname=Dodge-City_KS\n"
     ]
    },
    {
     "name": "stderr",
     "output_type": "stream",
     "text": [
      "/home/pmccrone/anaconda3/lib/python3.8/site-packages/ipykernel/ipkernel.py:287: DeprecationWarning: `should_run_async` will not call `transform_cell` automatically in the future. Please pass the result to `transformed_cell` argument and any exception that happen during thetransform in `preprocessing_exc_tuple` in IPython 7.17 and above.\n",
      "  and should_run_async(code)\n"
     ]
    }
   ],
   "source": [
    "dict_call_signs={\"KABR\":\"Aberdeen_SD\", \"KABX\":\"Albuquerque_NM\", \"KAKQ\":\"Norfolk-VA\", \\\n",
    "\"KAMA\":\"Amarillo_TX\", \"KBBX\":\"Beale-AFB_CA\", \\\n",
    "\"KAMX\":\"Miami-FL\", \"KAPX\":\"Gaylord_MI\", \"KARX\":\"La-Crosse_WI\", \"KATX\":\"Seattle-Tacoma_WA\", \\\n",
    "\"KBGM\":\"Binghamton_NY\", \"KBHX\":\"Eureka_CA\", \"KBIS\":\"Bismarck_ND\", \"KBLX\":\"Billings_MT\", \\\n",
    "\"KBMX\":\"Birmingham_AL\", \"KCAE\":\"Columbia_SC\", \\\n",
    "\"KBOX\":\"Boston-MA\", \"KBRO\":\"Brownsville-TX\", \"KBUF\":\"Buffalo_NY\", \"KBYX\":\"Key-West-FL\", \\\n",
    "\"KCBW\":\"Houlton-Maine\", \"KCBX\":\"Boise_ID\", \"KCCX\":\"State-College_PA\", \"KCLE\":\"Cleveland_OH\", \\\n",
    "\"KCLX\":\"Charleston-SC\", \"KDDC\":\"Dodge-City_KS\", \\\n",
    "\"KCRP\":\"Corpus-Christi-TX\", \"KCXX\":\"Burlington_VT\", \"KCYS\":\"Cheyenne_WY\", \"KDAX\":\"Sacramento_CA\", \\\n",
    "\"KDFX\":\"Laughlin-AFB_TX\", \"KDIX\":\"Philadelphia-PA\", \"KDLH\":\"Duluth_MN\", \"KDMX\":\"Des-Moines_IA\", \\\n",
    "\"KDOX\":\"Dover-AFB-DE\", \"KEMX\":\"Tucson_AZ\", \\\n",
    "\"KDTX\":\"Detroit_MI\", \"KDVN\":\"Davenport_IA\", \"KDYX\":\"Dyess-AFB_TX\", \"KEAX\":\"Kansas-City_MO\", \\\n",
    "\"KENX\":\"Albany_NY\", \"KEOX\":\"Fort-Rucker_AL\", \"KEPZ\":\"El-Paso_TX\", \"KESX\":\"Las-Vegas_NV\", \\\n",
    "\"KEVX\":\"Eglin-AFB-FL\", \"KFDX\":\"Cannon-AFB_NM\", \\\n",
    "\"KEWX\":\"Austin-San-Antonio_TX\", \"KEYX\":\"Edwards-AFB_CA\", \"KFCX\":\"Roanoke_VA\", \"KFDR\":\"Altus-AFB_OK\", \\\n",
    "\"KFFC\":\"Atlanta_GA\", \"KFSD\":\"Sioux-Falls_SD\", \"KFSX\":\"Flagstaff_AZ\",\"KFTG\":\"Denver_CO\", \\\n",
    "\"KFWS\":\"Dallas-Ft.Worth_TX\", \"KGRK\":\"Fort-Hood_TX\", \\\n",
    "\"KGGW\":\"Glasgow_MT\", \"KGJX\":\"Grand-Junction_Co\", \"KGLD\":\"Goodland_KS\", \"KGRB\":\"Green-Bay_WI\", \\\n",
    "\"KGRR\":\"Grand-Rapids_MI\", \"KGSP\":\"Greer_SC\", \"KGWX\":\"Columbus-AFB,_ MS\", \"KGYX\":\"Portland-Maine\", \\\n",
    "\"KHDX\":\"Holloman-AFB_NM\", \"KHTX\":\"Huntsville_AL\",  \\\n",
    "\"KHGX\":\"Houston-Galveston-TX\", \"KHNX\":\"San-Joaquin-Valley_CA\", \"KHPX\":\"Fort-Campbell_KY\", \\\n",
    "\"KICT\":\"Wichita_KS\", \"KICX\":\"Cedar-City_UT\", \"KILN\":\"Cincinnati_OH\", \"KILX\":\"Lincoln_IL\", \\\n",
    "\"KIND\":\"Indianapolis_IN\", \"KJAX\":\"Jacksonville-FL\", \\\n",
    "\"KINX\":\"Tulsa_OK\", \"KIWA\":\"Phoenix_AZ\", \"KIWX\":\"Fort-Wayne_IN\", \"KJAN\":\"Jackson_MS\", \\\n",
    "\"KJGX\":\"Robins-AFB_GA\", \"KJKL\":\"Jackson_KY\", \"KLBB\":\"Lubbock_TX\", \"KLCH\":\"Lake-Charles-LA\", \\\n",
    "\"KLIX\":\"New-Orleans-LA\", \"KLTX\":\"Wilmington-NC\", \\\n",
    "\"KLNX\":\"North-Platte_NE\", \"KLOT\":\"Chicago_IL\", \"KLRX\":\"Elko_NV\", \"KLSX\":\"Saint-Louis_ MO\", \\\n",
    "\"KLVX\":\"Louisville_KY\", \"KLWX\":\"Sterling-VA\", \"KLZK\":\"Little-Rock_AR\", \"KMAF\":\"Midland-Odessa_TX\", \\\n",
    "\"KMAX\":\"Medford_OR\", \"KMOB\":\"Mobile-AL\", \\\n",
    "\"KMBX\":\"Minot-AFB_ND\", \"KMHX\":\"Morehead-City-NC\", \"KMKX\":\"Milwaukee_WI\", \"KMLB\":\"Melbourne-FL\", \\\n",
    "\"KMPX\":\"Minneapolis-St.Paul_MN\", \"KMQT\":\"Marquette_MI\", \"KMRX\":\"Knoxville-Tri-Cities_TN\", \\\n",
    "\"KMSX\":\"Missoula_MT\", \"KNKX\":\"San-Diego-CA\", \\\n",
    "\"KMTX\":\"Salt-Lake-City_UT\", \"KMUX\":\"San-Francisco_CA\", \"KMVX\":\"Grand-Forks_ND\", \"KMXX\":\"Maxwell-AFB_AL\", \\\n",
    "\"KNQA\":\"Memphis_TN\", \"KOAX\":\"Omaha_NE\", \"KOHX\":\"Nashville_TN\", \"KOKX\":\"New-York-City-NY\", \\\n",
    "\"KOTX\":\"Spokane_WA\", \"KPAH\":\"Paducah_KY\", \\\n",
    "\"KPBZ\":\"Pittsburgh_PA\", \"KPDT\":\"Pendleton_OR\", \"KPOE\":\"Fort-Polk_LA\", \"KPUX\":\"Pueblo_CO\", \\\n",
    "\"KRAX\":\"Raleigh-Durham_NC\", \"KRGX\":\"Reno-NV\", \"KSFX\":\"Pocatello-Idaho-Falls_ID\", \\\n",
    "\"KRIW\":\"Riverton_WY\", \"KRLX\":\"Charleston_WV\", \"KRMX\":\"Griffiss-AFB_NY\", \"KRTX\":\"Portland_OR\", \\\n",
    "\"KSGF\":\"Springfield_MO\", \"KSHV\":\"Shreveport_LA\", \"KSJT\":\"San-Angelo_TX\", \\\n",
    "\"KSOX\":\"Santa-Ana_Mountains_CA\", \"KTLX\":\"Oklahoma-City_OK\", \\\n",
    "\"KSRX\":\"Fort-Smith_AR\", \"KTBW\":\"Tampa-FL\", \"KTFX\":\"Great-Falls_MT\", \"KTLH\":\"Tallahassee-FL\", \\\n",
    "\"KTWX\":\"Topeka_KS\", \"KUDX\":\"Rapid-City_SD\", \"KUEX\":\"Hastings_NE\", \"KVAX\":\"Moody-AFB_GA\", \\\n",
    "\"KVBX\":\"Vandenberg-AFB_CA\", \"PABC\":\"Bethel_AK\", \\\n",
    "\"KVNX\":\"Vance-AFB_OK\", \"KVTX\":\"Los_Angeles_CA\", \"KYUX\":\"Yuma_AZ\", \"LPLA\":\"Lajes-AB_Azores\", \\\n",
    "\"PACG\":\"Sitka_AK\", \"PAEC\":\"Nome_AK\", \"PAHG\":\"Anchorage_AK\", \"PAIH\":\"Middleton-Island_AK\",\n",
    "\"PAKC\":\"King-Salmon_AK\", \"PHKM\":'Kamuela-Kohala-HI', \\\n",
    "\"PAPD\":\"Fairbanks_AK\", \"PGUA\":\"Anderson-AFB-Guam\", \"PHKI\":\"South-Kauai-HI\", \\\n",
    "\"PHKN\":\"Kamuela_HI\", \"PHMO\":\"Molokai-HI\", \"PHWA\":\"South-Shore-HI\", \"RKJK\":\"Kunsan-AB-Korea\", \\\n",
    "\"RKSG\":\"Camp-Humphreys-Korea\", \"RODN\":\"Kadena_Okinawa\", \"TJUA\":\"San-Juan-Puerto-Rico\", \\\n",
    "\"KLGX\":\"Langley-Hill_WA\", \"KCRI\":\"Norman-Westheimer-OK\",\"KOUN\":\"Norman-NSSL-OK\"}\n",
    "\n",
    "My_radarname=dict_call_signs[My_callsign]\n",
    "print(\"My_radarname=\"+My_radarname)\n",
    "\n"
   ]
  },
  {
   "cell_type": "code",
   "execution_count": 63,
   "id": "fb6f9204",
   "metadata": {},
   "outputs": [
    {
     "name": "stdout",
     "output_type": "stream",
     "text": [
      "-----------------------------------------------------\n",
      "This file is VALID and EXISTS:: /home/pmccrone/python/src/Radar_NEXRAD_process-main/NEXRAD_Data_LL_Data.csv\n",
      "-----------------------------------------------------\n",
      "Reading NEXRAD csv data\n",
      "Data was read in\n"
     ]
    },
    {
     "name": "stderr",
     "output_type": "stream",
     "text": [
      "/home/pmccrone/anaconda3/lib/python3.8/site-packages/ipykernel/ipkernel.py:287: DeprecationWarning: `should_run_async` will not call `transform_cell` automatically in the future. Please pass the result to `transformed_cell` argument and any exception that happen during thetransform in `preprocessing_exc_tuple` in IPython 7.17 and above.\n",
      "  and should_run_async(code)\n"
     ]
    }
   ],
   "source": [
    "#xxxxxxxxxxxxxxxxxxxxxxxxxxxxxxxxxxxxxxxxxxxxxxxxxxxxxxxxxxxxxxxxxxxxxxxxxxxxxxxxxxxxxxxxxxxx\n",
    "#\n",
    "NEX_file=meta_dir+'/NEXRAD_Data_LL_Data.csv'\n",
    "#\n",
    "this_return_value = 0\n",
    "#\n",
    "# Check thisfile\n",
    "#\n",
    "valid_thisfile=OS.path.isfile(NEX_file)\n",
    "#\n",
    "if valid_thisfile:\n",
    "    print(dadash)\n",
    "    print(\"This file is VALID and EXISTS:: \"+NEX_file)\n",
    "    this_return_value = 1\n",
    "    print(dadash)\n",
    "    WARNING_INIT_ERROR=1\n",
    "    #\n",
    "else:\n",
    "    #\n",
    "    print(\"---CAUTION---\")\n",
    "    print(\"---The indicated file is INVALID! NEED TO CHECK THIS!: \"+NEX_file)\n",
    "    this_return_value = 0\n",
    "    WARNING_INIT_ERROR=0\n",
    "    #-----------------------------------------------------------\n",
    "    # End of if block\n",
    "    #-----------------------------------------------------------\n",
    "\n",
    "#xxxxxxxxxxxxxxxxxxxxxxxxxxxxxxxxxxxxxxxxxxxxxxxxxxxxxxxxxxxxxxxxxxxxxxxxxxxxxxxxxxxxxxxxxxxx\n",
    "\n",
    "#\n",
    "#nexrad_dataframe = PD.read_csv(CWD_PATH+'NEXRAD_Data.csv')\n",
    "#nexrad_dataframe = PD.read_csv(CWD_PATH+'NEXRAD_Data_LLW.csv')\n",
    "#xxxxxxxxxxxxxxxxxxxxxxxxxxxxxxxxxxxxxxxxxxxxxxxxxxxxxxxxxxxxxxxxxxxxxxxxxxxxxxxxxxxxxxxxxxxx\n",
    "try:\n",
    "    print(\"Reading NEXRAD csv data\")\n",
    "    nexrad_dataframe = PD.read_csv(NEX_file)\n",
    "    print(\"Data was read in\")\n",
    "except:\n",
    "    WARNING_INIT_ERROR=0\n",
    "#xxxxxxxxxxxxxxxxxxxxxxxxxxxxxxxxxxxxxxxxxxxxxxxxxxxxxxxxxxxxxxxxxxxxxxxxxxxxxxxxxxxxxxxxxxxx\n"
   ]
  },
  {
   "cell_type": "code",
   "execution_count": 64,
   "id": "895f52f1",
   "metadata": {},
   "outputs": [
    {
     "name": "stderr",
     "output_type": "stream",
     "text": [
      "/home/pmccrone/anaconda3/lib/python3.8/site-packages/ipykernel/ipkernel.py:287: DeprecationWarning: `should_run_async` will not call `transform_cell` automatically in the future. Please pass the result to `transformed_cell` argument and any exception that happen during thetransform in `preprocessing_exc_tuple` in IPython 7.17 and above.\n",
      "  and should_run_async(code)\n"
     ]
    },
    {
     "data": {
      "text/html": [
       "<div>\n",
       "<style scoped>\n",
       "    .dataframe tbody tr th:only-of-type {\n",
       "        vertical-align: middle;\n",
       "    }\n",
       "\n",
       "    .dataframe tbody tr th {\n",
       "        vertical-align: top;\n",
       "    }\n",
       "\n",
       "    .dataframe thead th {\n",
       "        text-align: right;\n",
       "    }\n",
       "</style>\n",
       "<table border=\"1\" class=\"dataframe\">\n",
       "  <thead>\n",
       "    <tr style=\"text-align: right;\">\n",
       "      <th></th>\n",
       "      <th>WBAN</th>\n",
       "      <th>STATION_ID</th>\n",
       "      <th>STATION_NAME</th>\n",
       "      <th>LATN/LONGW(deg,min,sec)</th>\n",
       "      <th>ELEV(ft)</th>\n",
       "      <th>TOWER_HEIGHT(m)</th>\n",
       "      <th>TROPICAL</th>\n",
       "      <th>COASTAL</th>\n",
       "      <th>INLAND</th>\n",
       "      <th>LAT_N(deg,min,sec)</th>\n",
       "      <th>LONG_W(deg,min,sec)</th>\n",
       "      <th>STATION_CALLSIGN</th>\n",
       "      <th>LONG</th>\n",
       "      <th>LAT</th>\n",
       "    </tr>\n",
       "  </thead>\n",
       "  <tbody>\n",
       "    <tr>\n",
       "      <th>37</th>\n",
       "      <td>13985</td>\n",
       "      <td>KDDC</td>\n",
       "      <td>Dodge City, KS</td>\n",
       "      <td>374539 / 0995808</td>\n",
       "      <td>2590</td>\n",
       "      <td>20</td>\n",
       "      <td>0</td>\n",
       "      <td>0</td>\n",
       "      <td>1</td>\n",
       "      <td>374539</td>\n",
       "      <td>995808</td>\n",
       "      <td>KDDC</td>\n",
       "      <td>-99.968889</td>\n",
       "      <td>37.760833</td>\n",
       "    </tr>\n",
       "  </tbody>\n",
       "</table>\n",
       "</div>"
      ],
      "text/plain": [
       "     WBAN STATION_ID    STATION_NAME LATN/LONGW(deg,min,sec)  ELEV(ft)  \\\n",
       "37  13985       KDDC  Dodge City, KS        374539 / 0995808      2590   \n",
       "\n",
       "    TOWER_HEIGHT(m)  TROPICAL  COASTAL  INLAND  LAT_N(deg,min,sec)  \\\n",
       "37               20         0        0       1              374539   \n",
       "\n",
       "    LONG_W(deg,min,sec) STATION_CALLSIGN       LONG        LAT  \n",
       "37               995808             KDDC -99.968889  37.760833  "
      ]
     },
     "execution_count": 64,
     "metadata": {},
     "output_type": "execute_result"
    }
   ],
   "source": [
    "subst= nexrad_dataframe[nexrad_dataframe.STATION_ID == My_callsign]\n",
    "\n",
    "subst\n",
    "#subst.LAT\n",
    "#subst.LONG\n",
    "#subset\n",
    "#nexrad_dataframe(My_callsign)"
   ]
  },
  {
   "cell_type": "code",
   "execution_count": 65,
   "id": "d59029c1",
   "metadata": {},
   "outputs": [
    {
     "name": "stdout",
     "output_type": "stream",
     "text": [
      "-----------------------------------------------------\n",
      "-----------------------------------------------------\n",
      "-----------------------------------------------------\n",
      "-----------------------------------------------------\n",
      "-----------------------------------------------------\n",
      "-----------------------------------------------------\n",
      "==--==--==--==--==--==--==--==--==--==--==--==--==--\n",
      "The nexrad_dataframe\n",
      "==--==--==--==--==--==--==--==--==--==--==--==--==--\n",
      "      WBAN STATION_ID        STATION_NAME LATN/LONGW(deg,min,sec)  ELEV(ft)  \\\n",
      "0    14929       KABR        Aberdeen, SD        452721 / 0982447      1302   \n",
      "1    54766       KENX          Albany, NY        423511 / 0740350      1826   \n",
      "2     3019       KABX     Albuquerque, NM        350859 / 1064926      5870   \n",
      "3     3981       KFDR       Altus AFB, OK        342144 / 0985835      1267   \n",
      "4    23047       KAMA        Amarillo, TX        351400 / 1014233      3587   \n",
      "..     ...        ...                 ...                     ...       ...   \n",
      "154  93234       KVBX  Vandenberg AFB, CA        345017 / 1202349      1223   \n",
      "155   3928       KICT         Wichita, KS        373917 / 0972634      1335   \n",
      "156  93774       KLTX      Wilmington, NC        335922 / 0782544        64   \n",
      "157  53116       KYUX            Yuma, AZ        322943 / 1143924       174   \n",
      "158  99099       KLGX     Langley-Hill_WA        471169 / 1241066       250   \n",
      "\n",
      "     TOWER_HEIGHT(m)  TROPICAL  COASTAL  INLAND  LAT_N(deg,min,sec)  \\\n",
      "0                 20         0        0       1              452721   \n",
      "1                 20         0        0       1              423511   \n",
      "2                 20         0        0       1              350859   \n",
      "3                 10         0        0       1              342144   \n",
      "4                 20         0        0       1              351400   \n",
      "..               ...       ...      ...     ...                 ...   \n",
      "154               20         0        1       0              345017   \n",
      "155               10         0        0       1              373917   \n",
      "156               20         0        0       1              335922   \n",
      "157               10         0        0       1              322943   \n",
      "158               20         0        1       0              471169   \n",
      "\n",
      "     LONG_W(deg,min,sec) STATION_CALLSIGN        LONG        LAT  \n",
      "0                 982447             KABR  -98.413056  45.455833  \n",
      "1                 740350             KENX  -74.063889  42.586389  \n",
      "2                1064926             KABX -106.823889  35.149722  \n",
      "3                 985835             KFDR  -98.976389  34.362222  \n",
      "4                1014233             KAMA -101.709167  35.233333  \n",
      "..                   ...              ...         ...        ...  \n",
      "154              1202349             KVBX -120.396944  34.838056  \n",
      "155               972634             KICT  -97.442778  37.654722  \n",
      "156               782544             KLTX  -78.428889  33.989444  \n",
      "157              1143924             KYUX -114.656667  32.495278  \n",
      "158              1241066             KLGX -124.106600  47.116900  \n",
      "\n",
      "[159 rows x 14 columns]\n",
      "==--==--==--==--==--==--==--==--==--==--==--==--==--\n",
      "==--==--==--==--==--==--==--==--==--==--==--==--==--\n"
     ]
    },
    {
     "name": "stderr",
     "output_type": "stream",
     "text": [
      "/home/pmccrone/anaconda3/lib/python3.8/site-packages/ipykernel/ipkernel.py:287: DeprecationWarning: `should_run_async` will not call `transform_cell` automatically in the future. Please pass the result to `transformed_cell` argument and any exception that happen during thetransform in `preprocessing_exc_tuple` in IPython 7.17 and above.\n",
      "  and should_run_async(code)\n"
     ]
    }
   ],
   "source": [
    "#xxxxxxxxxxxxxxxxxxxxxxxxxxxxxxxxxxxxxxxxxxxxxxxxxxxxxxxxxxxxxxxxxxxxxxxxxxxxxxxxxxxxxxxxxxxx\n",
    "\n",
    "\n",
    "sp='==>'\n",
    "\n",
    "print (DADASHES)\n",
    "\n",
    "#\n",
    "#\n",
    "#--------------------------------------\n",
    "# nexrad_dataframe - > TABS:                                                                                       \n",
    "# ----> WBAN \n",
    "# ----> STATION_ID\n",
    "# ----> STATION_NAME \n",
    "# ----> LATN/LONGW(deg,min,sec)\n",
    "# ----> ELEV(ft)\n",
    "# ----> TOWER_HEIGHT(m)\n",
    "# ----> TROPICAL\n",
    "# ----> COASTAL\n",
    "# ----> INLAND\n",
    "# ----> LAT_N(deg,min,sec)\n",
    "# ----> LONG_W(deg,min,sec)\n",
    "#--------------------------------------\n",
    "# ----> LATDfloat\n",
    "# ----> LONGfloat\n",
    "# ----> STATION_NAME\n",
    "# ----> LAT\n",
    "# ----> LONG\n",
    "#--------------------------------------\n",
    "#\n",
    "#\n",
    "\n",
    "try:\n",
    "    nexrad_dataframe.set_index('STATION_ID')\n",
    "except:\n",
    "    WARNING_INIT_ERROR=0\n",
    "#xxxxxxxxxxxxxxxxxxxxxxxxxxxxxxxxxxxxxxxxxxxxxxxxxxxxxxxxxxxxxxxxxxxxxxxxxxxxxxxxxxxxxxxxxxxx\n",
    "\n",
    "print( DADASHES)\n",
    "\n",
    "sp='==>'\n",
    "\n",
    "print( DADASHES)\n",
    "print( DADASHES)\n",
    "\n",
    "#\n",
    "# Here I will create a dataframe that contains the properly computed lats and longs\n",
    "# Indexed by trhe RADAR site callsigns\n",
    "#\n",
    "LEN_ALL_call_signs=len(ALL_call_signs)\n",
    "\n",
    "print( dadash)\n",
    "print( dadash)\n",
    "\n",
    "\n",
    "#------------------------------------------------------------\n",
    "#\n",
    "#------------------------------------------------------------\n",
    "#\n",
    "#------------------------------------\n",
    "#============================================================\n",
    "\n",
    "print( DAEQUALS)\n",
    "print( \"The nexrad_dataframe\")\n",
    "print( DAEQUALS)\n",
    "#\n",
    "try:\n",
    "    print(nexrad_dataframe)\n",
    "except:\n",
    "    WARNING_INIT_ERROR=0\n",
    "#============================================================\n",
    "\n",
    "print( DAEQUALS)\n",
    "print( DAEQUALS)\n"
   ]
  },
  {
   "cell_type": "code",
   "execution_count": 66,
   "id": "2c05d2ed",
   "metadata": {},
   "outputs": [
    {
     "name": "stdout",
     "output_type": "stream",
     "text": [
      "-----------------------------------------------------\n",
      "-----------------------------------------------------\n",
      "-----------------------------------------------------\n",
      "-----------------------------------------------------\n",
      "-----------------------------------------------------\n",
      "-----------------------------------------------------\n",
      "==--==--==--==--==--==--==--==--==--==--==--==--==--\n",
      "The nexrad_dataframe\n",
      "==--==--==--==--==--==--==--==--==--==--==--==--==--\n",
      "      WBAN STATION_ID        STATION_NAME LATN/LONGW(deg,min,sec)  ELEV(ft)  \\\n",
      "0    14929       KABR        Aberdeen, SD        452721 / 0982447      1302   \n",
      "1    54766       KENX          Albany, NY        423511 / 0740350      1826   \n",
      "2     3019       KABX     Albuquerque, NM        350859 / 1064926      5870   \n",
      "3     3981       KFDR       Altus AFB, OK        342144 / 0985835      1267   \n",
      "4    23047       KAMA        Amarillo, TX        351400 / 1014233      3587   \n",
      "..     ...        ...                 ...                     ...       ...   \n",
      "154  93234       KVBX  Vandenberg AFB, CA        345017 / 1202349      1223   \n",
      "155   3928       KICT         Wichita, KS        373917 / 0972634      1335   \n",
      "156  93774       KLTX      Wilmington, NC        335922 / 0782544        64   \n",
      "157  53116       KYUX            Yuma, AZ        322943 / 1143924       174   \n",
      "158  99099       KLGX     Langley-Hill_WA        471169 / 1241066       250   \n",
      "\n",
      "     TOWER_HEIGHT(m)  TROPICAL  COASTAL  INLAND  LAT_N(deg,min,sec)  \\\n",
      "0                 20         0        0       1              452721   \n",
      "1                 20         0        0       1              423511   \n",
      "2                 20         0        0       1              350859   \n",
      "3                 10         0        0       1              342144   \n",
      "4                 20         0        0       1              351400   \n",
      "..               ...       ...      ...     ...                 ...   \n",
      "154               20         0        1       0              345017   \n",
      "155               10         0        0       1              373917   \n",
      "156               20         0        0       1              335922   \n",
      "157               10         0        0       1              322943   \n",
      "158               20         0        1       0              471169   \n",
      "\n",
      "     LONG_W(deg,min,sec) STATION_CALLSIGN        LONG        LAT  \n",
      "0                 982447             KABR  -98.413056  45.455833  \n",
      "1                 740350             KENX  -74.063889  42.586389  \n",
      "2                1064926             KABX -106.823889  35.149722  \n",
      "3                 985835             KFDR  -98.976389  34.362222  \n",
      "4                1014233             KAMA -101.709167  35.233333  \n",
      "..                   ...              ...         ...        ...  \n",
      "154              1202349             KVBX -120.396944  34.838056  \n",
      "155               972634             KICT  -97.442778  37.654722  \n",
      "156               782544             KLTX  -78.428889  33.989444  \n",
      "157              1143924             KYUX -114.656667  32.495278  \n",
      "158              1241066             KLGX -124.106600  47.116900  \n",
      "\n",
      "[159 rows x 14 columns]\n",
      "==--==--==--==--==--==--==--==--==--==--==--==--==--\n",
      "==--==--==--==--==--==--==--==--==--==--==--==--==--\n"
     ]
    },
    {
     "name": "stderr",
     "output_type": "stream",
     "text": [
      "/home/pmccrone/anaconda3/lib/python3.8/site-packages/ipykernel/ipkernel.py:287: DeprecationWarning: `should_run_async` will not call `transform_cell` automatically in the future. Please pass the result to `transformed_cell` argument and any exception that happen during thetransform in `preprocessing_exc_tuple` in IPython 7.17 and above.\n",
      "  and should_run_async(code)\n"
     ]
    }
   ],
   "source": [
    "#xxxxxxxxxxxxxxxxxxxxxxxxxxxxxxxxxxxxxxxxxxxxxxxxxxxxxxxxxxxxxxxxxxxxxxxxxxxxxxxxxxxxxxxxxxxx\n",
    "\n",
    "\n",
    "sp='==>'\n",
    "\n",
    "print (DADASHES)\n",
    "\n",
    "#\n",
    "#\n",
    "#--------------------------------------\n",
    "# nexrad_dataframe - > TABS:                                                                                       \n",
    "# ----> WBAN \n",
    "# ----> STATION_ID\n",
    "# ----> STATION_NAME \n",
    "# ----> LATN/LONGW(deg,min,sec)\n",
    "# ----> ELEV(ft)\n",
    "# ----> TOWER_HEIGHT(m)\n",
    "# ----> TROPICAL\n",
    "# ----> COASTAL\n",
    "# ----> INLAND\n",
    "# ----> LAT_N(deg,min,sec)\n",
    "# ----> LONG_W(deg,min,sec)\n",
    "#--------------------------------------\n",
    "# ----> LATDfloat\n",
    "# ----> LONGfloat\n",
    "# ----> STATION_NAME\n",
    "# ----> LAT\n",
    "# ----> LONG\n",
    "#--------------------------------------\n",
    "#\n",
    "#\n",
    "\n",
    "try:\n",
    "    nexrad_dataframe.set_index('STATION_ID')\n",
    "except:\n",
    "    WARNING_INIT_ERROR=0\n",
    "#xxxxxxxxxxxxxxxxxxxxxxxxxxxxxxxxxxxxxxxxxxxxxxxxxxxxxxxxxxxxxxxxxxxxxxxxxxxxxxxxxxxxxxxxxxxx\n",
    "\n",
    "print( DADASHES)\n",
    "\n",
    "sp='==>'\n",
    "\n",
    "print( DADASHES)\n",
    "print( DADASHES)\n",
    "\n",
    "#\n",
    "# Here I will create a dataframe that contains the properly computed lats and longs\n",
    "# Indexed by trhe RADAR site callsigns\n",
    "#\n",
    "LEN_ALL_call_signs=len(ALL_call_signs)\n",
    "\n",
    "print( dadash)\n",
    "print( dadash)\n",
    "\n",
    "\n",
    "#------------------------------------------------------------\n",
    "#\n",
    "#------------------------------------------------------------\n",
    "#\n",
    "#------------------------------------\n",
    "#============================================================\n",
    "\n",
    "print( DAEQUALS)\n",
    "print( \"The nexrad_dataframe\")\n",
    "print( DAEQUALS)\n",
    "#\n",
    "try:\n",
    "    print(nexrad_dataframe)\n",
    "except:\n",
    "    WARNING_INIT_ERROR=0\n",
    "#============================================================\n",
    "\n",
    "print( DAEQUALS)\n",
    "print( DAEQUALS)\n"
   ]
  },
  {
   "cell_type": "code",
   "execution_count": 67,
   "id": "bbffc38a",
   "metadata": {},
   "outputs": [
    {
     "name": "stdout",
     "output_type": "stream",
     "text": [
      "37.7608333333\n",
      "-99.9688888889\n",
      "==--==--==--==--==--==--==--==--==--==--==--==--==--\n",
      "RadarLatitude  = 37.7608333333\n",
      "RadarLongitude = -99.9688888889\n",
      "37    radarname      = Dodge City, KS\n",
      "Name: STATION_NAME, dtype: object\n",
      "localname      = Dodge-City_KS\n"
     ]
    },
    {
     "name": "stderr",
     "output_type": "stream",
     "text": [
      "/home/pmccrone/anaconda3/lib/python3.8/site-packages/ipykernel/ipkernel.py:287: DeprecationWarning: `should_run_async` will not call `transform_cell` automatically in the future. Please pass the result to `transformed_cell` argument and any exception that happen during thetransform in `preprocessing_exc_tuple` in IPython 7.17 and above.\n",
      "  and should_run_async(code)\n"
     ]
    }
   ],
   "source": [
    "IDX=subst.index.values\n",
    "\n",
    "#print(str(subst.index))\n",
    "#print(str(subst.at[48,'LAT']))\n",
    "#print(str(subst.at[48,'LONG']))\n",
    "\n",
    "print(str(subst.at[IDX[0],'LAT']))\n",
    "print(str(subst.at[IDX[0],'LONG']))\n",
    "\n",
    "\n",
    "RadarLatitude_obj = subst.LAT#\n",
    "\n",
    "RadarLongitude_obj= subst.LONG#\n",
    "\n",
    "radarname=subst.STATION_NAME\n",
    "\n",
    "RadarLatitude = subst.at[IDX[0],'LAT']\n",
    "\n",
    "RadarLongitude= subst.at[IDX[0],'LONG']\n",
    "\n",
    "\n",
    "print( DAEQUALS)\n",
    "\n",
    "\n",
    "print('RadarLatitude  = '+str(RadarLatitude))\n",
    "print('RadarLongitude = '+str(RadarLongitude))\n",
    "print('radarname      = '+radarname)\n",
    "print('localname      = '+My_radarname)\n"
   ]
  },
  {
   "cell_type": "code",
   "execution_count": 68,
   "id": "95b69da9",
   "metadata": {},
   "outputs": [
    {
     "name": "stderr",
     "output_type": "stream",
     "text": [
      "/home/pmccrone/anaconda3/lib/python3.8/site-packages/ipykernel/ipkernel.py:287: DeprecationWarning: `should_run_async` will not call `transform_cell` automatically in the future. Please pass the result to `transformed_cell` argument and any exception that happen during thetransform in `preprocessing_exc_tuple` in IPython 7.17 and above.\n",
      "  and should_run_async(code)\n"
     ]
    },
    {
     "data": {
      "text/plain": [
       "'Dodge-City_KS'"
      ]
     },
     "execution_count": 68,
     "metadata": {},
     "output_type": "execute_result"
    }
   ],
   "source": [
    "PlaceName = dict_call_signs[CALL_SIGN]\n",
    "PlaceName"
   ]
  },
  {
   "cell_type": "code",
   "execution_count": 69,
   "id": "b0d6039e",
   "metadata": {},
   "outputs": [
    {
     "name": "stderr",
     "output_type": "stream",
     "text": [
      "/home/pmccrone/anaconda3/lib/python3.8/site-packages/ipykernel/ipkernel.py:287: DeprecationWarning: `should_run_async` will not call `transform_cell` automatically in the future. Please pass the result to `transformed_cell` argument and any exception that happen during thetransform in `preprocessing_exc_tuple` in IPython 7.17 and above.\n",
      "  and should_run_async(code)\n"
     ]
    }
   ],
   "source": [
    "#CALL_SIGN=\"PHMO\"\n",
    "#data_dir='/u/curr/etc/dynamic/obs_data/met/cqc/radar/'+CALL_SIGN\n",
    "\n",
    "#data_dir='/satdat/curr/m4b/radar/nexrad/'+CALL_SIGN+'/'\n",
    "data_dir='/import/frb_archive/pmccrone/KDDC_2019/'\n",
    "\n",
    "\n",
    "\n",
    "list_of_files= []\n",
    "list_of_files=os.listdir(data_dir)"
   ]
  },
  {
   "cell_type": "code",
   "execution_count": 70,
   "id": "ee0ebc31",
   "metadata": {},
   "outputs": [
    {
     "name": "stderr",
     "output_type": "stream",
     "text": [
      "/home/pmccrone/anaconda3/lib/python3.8/site-packages/ipykernel/ipkernel.py:287: DeprecationWarning: `should_run_async` will not call `transform_cell` automatically in the future. Please pass the result to `transformed_cell` argument and any exception that happen during thetransform in `preprocessing_exc_tuple` in IPython 7.17 and above.\n",
      "  and should_run_async(code)\n"
     ]
    }
   ],
   "source": [
    "list_of_files.sort()"
   ]
  },
  {
   "cell_type": "code",
   "execution_count": 71,
   "id": "6f476efb",
   "metadata": {},
   "outputs": [
    {
     "name": "stdout",
     "output_type": "stream",
     "text": [
      "filename is /import/frb_archive/pmccrone/KDDC_2019/KDDC20190518_030611_V06\n"
     ]
    },
    {
     "name": "stderr",
     "output_type": "stream",
     "text": [
      "/home/pmccrone/anaconda3/lib/python3.8/site-packages/ipykernel/ipkernel.py:287: DeprecationWarning: `should_run_async` will not call `transform_cell` automatically in the future. Please pass the result to `transformed_cell` argument and any exception that happen during thetransform in `preprocessing_exc_tuple` in IPython 7.17 and above.\n",
      "  and should_run_async(code)\n"
     ]
    }
   ],
   "source": [
    "derivedatafrom =list_of_files[-1]\n",
    "#derivedatafrom =list_of_files[15]\n",
    "\n",
    "#derivedatafrom ='20161223135600.compress.raw'\n",
    "#\n",
    "#\n",
    "filename = data_dir+derivedatafrom\n",
    "#filename\n",
    "print('filename is '+filename)"
   ]
  },
  {
   "cell_type": "code",
   "execution_count": 72,
   "id": "1505a00b",
   "metadata": {},
   "outputs": [
    {
     "name": "stderr",
     "output_type": "stream",
     "text": [
      "/home/pmccrone/anaconda3/lib/python3.8/site-packages/ipykernel/ipkernel.py:287: DeprecationWarning: `should_run_async` will not call `transform_cell` automatically in the future. Please pass the result to `transformed_cell` argument and any exception that happen during thetransform in `preprocessing_exc_tuple` in IPython 7.17 and above.\n",
      "  and should_run_async(code)\n"
     ]
    }
   ],
   "source": [
    "#"
   ]
  },
  {
   "cell_type": "code",
   "execution_count": 73,
   "id": "b1931af5",
   "metadata": {},
   "outputs": [
    {
     "name": "stderr",
     "output_type": "stream",
     "text": [
      "/home/pmccrone/anaconda3/lib/python3.8/site-packages/ipykernel/ipkernel.py:287: DeprecationWarning: `should_run_async` will not call `transform_cell` automatically in the future. Please pass the result to `transformed_cell` argument and any exception that happen during thetransform in `preprocessing_exc_tuple` in IPython 7.17 and above.\n",
      "  and should_run_async(code)\n"
     ]
    },
    {
     "name": "stdout",
     "output_type": "stream",
     "text": [
      "SUCCESS: Read in Level II RADAR  datafile: /import/frb_archive/pmccrone/KDDC_2019/KDDC20190518_030611_V06\n"
     ]
    }
   ],
   "source": [
    "read_radar_ok = 1\n",
    "\n",
    "#\n",
    "\n",
    "try:\n",
    "    radar = pyart.io.read(filename)\n",
    "except:\n",
    "    read_radar_ok = 0\n",
    "    print(\"WARNING: Error reading LevelII  datafile: \"+filename)\n",
    "    #=================================================================#\n",
    "\n",
    "if (read_radar_ok  == 1):\n",
    "    print(\"SUCCESS: Read in Level II RADAR  datafile: \"+filename)\n",
    "    #\n",
    "    #====================================="
   ]
  },
  {
   "cell_type": "code",
   "execution_count": 74,
   "id": "ba53f7f7",
   "metadata": {},
   "outputs": [
    {
     "name": "stderr",
     "output_type": "stream",
     "text": [
      "/home/pmccrone/anaconda3/lib/python3.8/site-packages/ipykernel/ipkernel.py:287: DeprecationWarning: `should_run_async` will not call `transform_cell` automatically in the future. Please pass the result to `transformed_cell` argument and any exception that happen during thetransform in `preprocessing_exc_tuple` in IPython 7.17 and above.\n",
      "  and should_run_async(code)\n"
     ]
    }
   ],
   "source": [
    "SITE_latitude = radar.latitude['data'][0]\n",
    "\n",
    "SITE_longitude  = radar.longitude['data'][0]\n",
    "\n",
    "minlon = SITE_longitude - 3.5\n",
    "maxlon = SITE_longitude + 3.5\n",
    "#\n",
    "minlat = SITE_latitude - 2.5\n",
    "maxlat = SITE_latitude + 2.5"
   ]
  },
  {
   "cell_type": "code",
   "execution_count": 75,
   "id": "caab8ca2",
   "metadata": {},
   "outputs": [
    {
     "name": "stdout",
     "output_type": "stream",
     "text": [
      "List of lats for grid plotting:\n",
      "[36.0, 37.0, 38.0, 39.0, 40.0]\n"
     ]
    },
    {
     "name": "stderr",
     "output_type": "stream",
     "text": [
      "/home/pmccrone/anaconda3/lib/python3.8/site-packages/ipykernel/ipkernel.py:287: DeprecationWarning: `should_run_async` will not call `transform_cell` automatically in the future. Please pass the result to `transformed_cell` argument and any exception that happen during thetransform in `preprocessing_exc_tuple` in IPython 7.17 and above.\n",
      "  and should_run_async(code)\n"
     ]
    }
   ],
   "source": [
    "local_lats=[]\n",
    "local_lons=[]\n",
    "\n",
    "for item in list_of_lats:\n",
    "    #\n",
    "    if (item > minlat ) & (item < maxlat):\n",
    "        local_lats.append(item)\n",
    "        #---------------------------------\n",
    "        # END OF IF LOOP\n",
    "        #---------------------------------\n",
    "    #---------------------------------\n",
    "    # END OF FOR LOOP\n",
    "    #---------------------------------\n",
    "\n",
    "print('List of lats for grid plotting:')\n",
    "print(local_lats)\n",
    "\n",
    "for item in list_of_lons:\n",
    "    #\n",
    "    if (item > minlon ) & (item < maxlon):\n",
    "        local_lons.append(item)\n",
    "        #---------------------------------\n",
    "        # END OF IF LOOP\n",
    "        #---------------------------------\n",
    "    #---------------------------------\n",
    "    # END OF FOR LOOP\n",
    "    #---------------------------------"
   ]
  },
  {
   "cell_type": "code",
   "execution_count": 76,
   "id": "df67375a",
   "metadata": {},
   "outputs": [
    {
     "name": "stdout",
     "output_type": "stream",
     "text": [
      "List of lons for grid plotting:\n",
      "[-103.0, -102.0, -101.0, -100.0, -99.0, -98.0, -97.0]\n"
     ]
    },
    {
     "name": "stderr",
     "output_type": "stream",
     "text": [
      "/home/pmccrone/anaconda3/lib/python3.8/site-packages/ipykernel/ipkernel.py:287: DeprecationWarning: `should_run_async` will not call `transform_cell` automatically in the future. Please pass the result to `transformed_cell` argument and any exception that happen during thetransform in `preprocessing_exc_tuple` in IPython 7.17 and above.\n",
      "  and should_run_async(code)\n"
     ]
    }
   ],
   "source": [
    "print('List of lons for grid plotting:')\n",
    "print(local_lons)\n",
    "\n",
    "CallSign =CALL_SIGN"
   ]
  },
  {
   "cell_type": "code",
   "execution_count": 77,
   "id": "24181f50",
   "metadata": {},
   "outputs": [
    {
     "name": "stdout",
     "output_type": "stream",
     "text": [
      "The year-month-day     is: dKDDC2019\n",
      "The hour-minute-second is: s0518_0\n",
      "The year-month-day -2-     is: KDDC-20-19\n",
      "The hour-minute-second -2- is: 05:18:_0\n",
      "Formatted Date-time String:\n",
      "KDDC-20-19---05:18:_0 UTC\n"
     ]
    },
    {
     "name": "stderr",
     "output_type": "stream",
     "text": [
      "/home/pmccrone/anaconda3/lib/python3.8/site-packages/ipykernel/ipkernel.py:287: DeprecationWarning: `should_run_async` will not call `transform_cell` automatically in the future. Please pass the result to `transformed_cell` argument and any exception that happen during thetransform in `preprocessing_exc_tuple` in IPython 7.17 and above.\n",
      "  and should_run_async(code)\n"
     ]
    }
   ],
   "source": [
    "yymmdd='d'+derivedatafrom[0:8]\n",
    "hhmmss='s'+derivedatafrom[8:14]\n",
    "#\n",
    "print('The year-month-day     is: '+yymmdd)\n",
    "print('The hour-minute-second is: '+hhmmss)\n",
    "#\n",
    "#\n",
    "#yyyy_mm_dd = derivedatafrom[0:4]+'_'+derivedatafrom[4:2]+'_'+derivedatafrom[6:2]\n",
    "yyyy_mm_dd = derivedatafrom[0:4]+'-'+derivedatafrom[4:6]+'-'+derivedatafrom[6:8]\n",
    "#\n",
    "#hh_MM_sec  = derivedatafrom[8:2]+':'+derivedatafrom[10:2]+':'+derivedatafrom[12:2]\n",
    "hh_MM_sec  = derivedatafrom[8:10]+':'+derivedatafrom[10:12]+':'+derivedatafrom[12:14]\n",
    "#\n",
    "print('The year-month-day -2-     is: '+yyyy_mm_dd)\n",
    "#\n",
    "print('The hour-minute-second -2- is: '+hh_MM_sec)\n",
    "#\n",
    "ymdhms_formatted = yyyy_mm_dd+'---'+hh_MM_sec+' UTC'\n",
    "#\n",
    "print('Formatted Date-time String:')\n",
    "\n",
    "print(ymdhms_formatted)"
   ]
  },
  {
   "cell_type": "code",
   "execution_count": 78,
   "id": "567f79eb",
   "metadata": {},
   "outputs": [
    {
     "name": "stderr",
     "output_type": "stream",
     "text": [
      "/home/pmccrone/anaconda3/lib/python3.8/site-packages/ipykernel/ipkernel.py:287: DeprecationWarning: `should_run_async` will not call `transform_cell` automatically in the future. Please pass the result to `transformed_cell` argument and any exception that happen during thetransform in `preprocessing_exc_tuple` in IPython 7.17 and above.\n",
      "  and should_run_async(code)\n"
     ]
    },
    {
     "data": {
      "image/png": "[encoded data removed]",
      "text/plain": [
       "<Figure size 1296x1296 with 1 Axes>"
      ]
     },
     "metadata": {
      "needs_background": "light"
     },
     "output_type": "display_data"
    }
   ],
   "source": [
    "#figur = plt.figure(figsize=(19,19))\n",
    "fig = plt.figure(figsize=[18, 18])\n",
    "ax = fig.add_subplot(111)"
   ]
  },
  {
   "cell_type": "code",
   "execution_count": 79,
   "id": "4311ee98",
   "metadata": {},
   "outputs": [
    {
     "name": "stderr",
     "output_type": "stream",
     "text": [
      "/home/pmccrone/anaconda3/lib/python3.8/site-packages/ipykernel/ipkernel.py:287: DeprecationWarning: `should_run_async` will not call `transform_cell` automatically in the future. Please pass the result to `transformed_cell` argument and any exception that happen during thetransform in `preprocessing_exc_tuple` in IPython 7.17 and above.\n",
      "  and should_run_async(code)\n",
      "/home/pmccrone/anaconda3/lib/python3.8/site-packages/cartopy/crs.py:2320: DeprecationWarning: `np.float` is a deprecated alias for the builtin `float`. To silence this warning, use `float` by itself. Doing this will not modify any behavior and is safe. If you specifically wanted the numpy scalar type, use `np.float64` here.\n",
      "Deprecated in NumPy 1.20; for more details and guidance: https://numpy.org/devdocs/release/1.20.0-notes.html#deprecations\n",
      "  a = np.float(self.globe.semimajor_axis or WGS84_SEMIMAJOR_AXIS)\n",
      "/home/pmccrone/anaconda3/lib/python3.8/site-packages/cartopy/crs.py:2321: DeprecationWarning: `np.float` is a deprecated alias for the builtin `float`. To silence this warning, use `float` by itself. Doing this will not modify any behavior and is safe. If you specifically wanted the numpy scalar type, use `np.float64` here.\n",
      "Deprecated in NumPy 1.20; for more details and guidance: https://numpy.org/devdocs/release/1.20.0-notes.html#deprecations\n",
      "  b = np.float(self.globe.semiminor_axis or a)\n"
     ]
    }
   ],
   "source": [
    "display = pyart.graph.RadarMapDisplay(radar)\n"
   ]
  },
  {
   "cell_type": "code",
   "execution_count": 80,
   "id": "f54e0215",
   "metadata": {},
   "outputs": [
    {
     "name": "stderr",
     "output_type": "stream",
     "text": [
      "/home/pmccrone/anaconda3/lib/python3.8/site-packages/ipykernel/ipkernel.py:287: DeprecationWarning: `should_run_async` will not call `transform_cell` automatically in the future. Please pass the result to `transformed_cell` argument and any exception that happen during thetransform in `preprocessing_exc_tuple` in IPython 7.17 and above.\n",
      "  and should_run_async(code)\n"
     ]
    }
   ],
   "source": [
    "GIS_shapefile = '/satdat/m4b/NEXRAD/python/shape/cb_2015_us_state_500k'\n"
   ]
  },
  {
   "cell_type": "code",
   "execution_count": 81,
   "id": "d552b845",
   "metadata": {},
   "outputs": [
    {
     "name": "stderr",
     "output_type": "stream",
     "text": [
      "/home/pmccrone/anaconda3/lib/python3.8/site-packages/ipykernel/ipkernel.py:287: DeprecationWarning: `should_run_async` will not call `transform_cell` automatically in the future. Please pass the result to `transformed_cell` argument and any exception that happen during thetransform in `preprocessing_exc_tuple` in IPython 7.17 and above.\n",
      "  and should_run_async(code)\n"
     ]
    }
   ],
   "source": [
    "projection = ccrs.LambertConformal(central_latitude=radar.latitude['data'][0], \\\n",
    "    central_longitude=radar.longitude['data'][0])"
   ]
  },
  {
   "cell_type": "code",
   "execution_count": 82,
   "id": "aff07fcc",
   "metadata": {},
   "outputs": [
    {
     "name": "stderr",
     "output_type": "stream",
     "text": [
      "/home/pmccrone/anaconda3/lib/python3.8/site-packages/ipykernel/ipkernel.py:287: DeprecationWarning: `should_run_async` will not call `transform_cell` automatically in the future. Please pass the result to `transformed_cell` argument and any exception that happen during thetransform in `preprocessing_exc_tuple` in IPython 7.17 and above.\n",
      "  and should_run_async(code)\n"
     ]
    }
   ],
   "source": [
    "#fig = plt.figure(figsize=(19,19))\n"
   ]
  },
  {
   "cell_type": "code",
   "execution_count": 83,
   "id": "80a2368e",
   "metadata": {},
   "outputs": [
    {
     "name": "stderr",
     "output_type": "stream",
     "text": [
      "/home/pmccrone/anaconda3/lib/python3.8/site-packages/ipykernel/ipkernel.py:287: DeprecationWarning: `should_run_async` will not call `transform_cell` automatically in the future. Please pass the result to `transformed_cell` argument and any exception that happen during thetransform in `preprocessing_exc_tuple` in IPython 7.17 and above.\n",
      "  and should_run_async(code)\n"
     ]
    },
    {
     "data": {
      "image/png": "[encoded data removed]",
      "text/plain": [
       "<Figure size 432x288 with 2 Axes>"
      ]
     },
     "metadata": {
      "needs_background": "light"
     },
     "output_type": "display_data"
    }
   ],
   "source": [
    "display.plot_ppi_map('reflectivity', 1, vmin=-32, vmax=64, min_lon=minlon, max_lon=maxlon, \\\n",
    "    min_lat=minlat, max_lat=maxlat, fig=fig, ax=ax, \\\n",
    "    lat_lines = local_lats, lon_lines = local_lons, \\\n",
    "    projection=projection, \\\n",
    "    lat_0=radar.latitude['data'][0],lon_0=radar.longitude['data'][0])\n",
    "#\n",
    "#display.plot_ppi_map('reflectivity', 1, vmin=-32, vmax=64, min_lon=minlon, max_lon=maxlon, \\\n",
    "#    min_lat=minlat, max_lat=maxlat, \\\n",
    "#    lat_lines = local_lats, lon_lines = local_lons, \\\n",
    "#    shapefile=GIS_shapefile, \\\n",
    "#    projection=projection, \\\n",
    "#    lat_0=radar.latitude['data'][0],lon_0=radar.longitude['data'][0])\n",
    "\n",
    "display.plot_range_rings([50, 100, 150, 250])\n"
   ]
  },
  {
   "cell_type": "code",
   "execution_count": 51,
   "id": "b52f26d0",
   "metadata": {},
   "outputs": [
    {
     "name": "stderr",
     "output_type": "stream",
     "text": [
      "/home/pmccrone/anaconda3/lib/python3.8/site-packages/ipykernel/ipkernel.py:287: DeprecationWarning: `should_run_async` will not call `transform_cell` automatically in the future. Please pass the result to `transformed_cell` argument and any exception that happen during thetransform in `preprocessing_exc_tuple` in IPython 7.17 and above.\n",
      "  and should_run_async(code)\n"
     ]
    },
    {
     "data": {
      "image/png": "[encoded data removed]",
      "text/plain": [
       "<Figure size 432x288 with 1 Axes>"
      ]
     },
     "metadata": {
      "needs_background": "light"
     },
     "output_type": "display_data"
    }
   ],
   "source": [
    "#\n",
    "fileformat='.jpg'\n",
    "#\n",
    "JPEG_file_data='nexrad_'+CALL_SIGN+'_'+yymmdd+'_'+hhmmss+'_'+'UTC_Base_REF'\n",
    "#\n",
    "TITLE_TEXT_1='NEXRAD Reflectivity '\n",
    "#\n",
    "TITLE_TEXT_2=CALL_SIGN+' - '+PlaceName\n",
    "#\n",
    "plt.title(TITLE_TEXT_2+': '+ymdhms_formatted)\n",
    "#\n",
    "JPEG_dir='/home/pmccrone/data/GIS/graphics/'\n",
    "JPEG_filename=JPEG_dir+JPEG_file_data+fileformat\n",
    "#\n",
    "plt.savefig(JPEG_filename)"
   ]
  },
  {
   "cell_type": "code",
   "execution_count": null,
   "id": "bb1e9335",
   "metadata": {},
   "outputs": [],
   "source": []
  }
 ],
 "metadata": {
  "kernelspec": {
   "display_name": "Python 3",
   "language": "python",
   "name": "python3"
  },
  "language_info": {
   "codemirror_mode": {
    "name": "ipython",
    "version": 3
   },
   "file_extension": ".py",
   "mimetype": "text/x-python",
   "name": "python",
   "nbconvert_exporter": "python",
   "pygments_lexer": "ipython3",
   "version": "3.8.8"
  }
 },
 "nbformat": 4,
 "nbformat_minor": 5
}
